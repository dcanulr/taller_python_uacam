{
 "cells": [
  {
   "cell_type": "markdown",
   "id": "248ab308-9f56-4654-8b2a-8ef435d896b3",
   "metadata": {},
   "source": [
    "# Introducción\n",
    "## Es un subtitulo\n",
    "Esta es mi primer libreta\n",
    "\n",
    "$P=1/2 \\rho A V^3$\n",
    "\n",
    "Esto es una **lista**:\n",
    "- *elemento 1*\n",
    "- elemento 2"
   ]
  },
  {
   "cell_type": "code",
   "execution_count": 12,
   "id": "b74752cb-d1ca-45e5-b8a2-f5143c372b84",
   "metadata": {},
   "outputs": [],
   "source": [
    "a = 3 "
   ]
  },
  {
   "cell_type": "code",
   "execution_count": 5,
   "id": "c29d0431-7201-488c-bebb-ca8f0efc9aa1",
   "metadata": {},
   "outputs": [
    {
     "data": {
      "text/plain": [
       "3"
      ]
     },
     "execution_count": 5,
     "metadata": {},
     "output_type": "execute_result"
    }
   ],
   "source": [
    "a"
   ]
  },
  {
   "cell_type": "code",
   "execution_count": 6,
   "id": "337e5018-30fa-4396-87cc-ed82116318f4",
   "metadata": {},
   "outputs": [
    {
     "data": {
      "text/plain": [
       "int"
      ]
     },
     "execution_count": 6,
     "metadata": {},
     "output_type": "execute_result"
    }
   ],
   "source": [
    "type(a)"
   ]
  },
  {
   "cell_type": "code",
   "execution_count": 7,
   "id": "67a476bd-2090-4956-b373-d0d0f60feae7",
   "metadata": {},
   "outputs": [],
   "source": [
    "b = 4.5"
   ]
  },
  {
   "cell_type": "code",
   "execution_count": 8,
   "id": "98a5bf6b-7c27-473e-9239-e8826adbaa0e",
   "metadata": {},
   "outputs": [
    {
     "data": {
      "text/plain": [
       "float"
      ]
     },
     "execution_count": 8,
     "metadata": {},
     "output_type": "execute_result"
    }
   ],
   "source": [
    "type(b)"
   ]
  },
  {
   "cell_type": "code",
   "execution_count": 9,
   "id": "cf1829a1-b144-4252-b488-21452226b9b3",
   "metadata": {},
   "outputs": [
    {
     "data": {
      "text/plain": [
       "7.5"
      ]
     },
     "execution_count": 9,
     "metadata": {},
     "output_type": "execute_result"
    }
   ],
   "source": [
    "a + b"
   ]
  },
  {
   "cell_type": "code",
   "execution_count": 10,
   "id": "6bc393a1-c7f1-498d-b709-bc4f6b046488",
   "metadata": {},
   "outputs": [],
   "source": [
    "a = 13"
   ]
  },
  {
   "cell_type": "code",
   "execution_count": 11,
   "id": "1d0faae8-029d-41d8-90f7-7ec0830739b2",
   "metadata": {},
   "outputs": [
    {
     "data": {
      "text/plain": [
       "13"
      ]
     },
     "execution_count": 11,
     "metadata": {},
     "output_type": "execute_result"
    }
   ],
   "source": [
    "a"
   ]
  },
  {
   "cell_type": "code",
   "execution_count": 13,
   "id": "b0a40804-04ef-4c30-9f65-cf2bdcba6780",
   "metadata": {},
   "outputs": [
    {
     "data": {
      "text/plain": [
       "3"
      ]
     },
     "execution_count": 13,
     "metadata": {},
     "output_type": "execute_result"
    }
   ],
   "source": [
    "a"
   ]
  },
  {
   "cell_type": "code",
   "execution_count": 14,
   "id": "6ce205d9-4858-4476-9e89-78868e8c5393",
   "metadata": {},
   "outputs": [],
   "source": [
    "a = 3\n",
    "b = 6.7\n",
    "c = 7."
   ]
  },
  {
   "cell_type": "code",
   "execution_count": 15,
   "id": "af4fdfad-b7fc-4eff-8b91-b4cd508d5612",
   "metadata": {},
   "outputs": [
    {
     "data": {
      "text/plain": [
       "13.7"
      ]
     },
     "execution_count": 15,
     "metadata": {},
     "output_type": "execute_result"
    }
   ],
   "source": [
    "suma_1 = b+c\n",
    "suma_1"
   ]
  },
  {
   "cell_type": "code",
   "execution_count": 16,
   "id": "86ddf824-c7d3-417f-bc68-d0632552d185",
   "metadata": {},
   "outputs": [
    {
     "data": {
      "text/plain": [
       "int"
      ]
     },
     "execution_count": 16,
     "metadata": {},
     "output_type": "execute_result"
    }
   ],
   "source": [
    "type(a)"
   ]
  },
  {
   "cell_type": "code",
   "execution_count": 17,
   "id": "8bf7054d-a024-4401-8451-4c9b00d75ace",
   "metadata": {},
   "outputs": [
    {
     "data": {
      "text/plain": [
       "float"
      ]
     },
     "execution_count": 17,
     "metadata": {},
     "output_type": "execute_result"
    }
   ],
   "source": [
    "type(b)"
   ]
  },
  {
   "cell_type": "code",
   "execution_count": 18,
   "id": "40e6090d-21f5-4ab8-a3eb-a5b267f0bd25",
   "metadata": {},
   "outputs": [],
   "source": [
    "suma_2 = a+b"
   ]
  },
  {
   "cell_type": "code",
   "execution_count": 21,
   "id": "64c8be48-522d-483f-b0d4-98738107ce9d",
   "metadata": {},
   "outputs": [
    {
     "data": {
      "text/plain": [
       "float"
      ]
     },
     "execution_count": 21,
     "metadata": {},
     "output_type": "execute_result"
    }
   ],
   "source": [
    "type(suma_2)"
   ]
  },
  {
   "cell_type": "code",
   "execution_count": 22,
   "id": "b7f584af-26aa-4379-abc4-ff2a72a7968f",
   "metadata": {},
   "outputs": [],
   "source": [
    "comp_1 = 1+2j"
   ]
  },
  {
   "cell_type": "code",
   "execution_count": 23,
   "id": "16e5ea85-143d-4fc0-9842-78a2141a9b4e",
   "metadata": {},
   "outputs": [
    {
     "data": {
      "text/plain": [
       "complex"
      ]
     },
     "execution_count": 23,
     "metadata": {},
     "output_type": "execute_result"
    }
   ],
   "source": [
    "type(comp_1)"
   ]
  },
  {
   "cell_type": "code",
   "execution_count": 24,
   "id": "30ade417-427c-49b5-877a-fe25b4d49391",
   "metadata": {},
   "outputs": [],
   "source": [
    "letra_1 = \"Hola\"\n",
    "letra_2 = \"Mundo\""
   ]
  },
  {
   "cell_type": "code",
   "execution_count": 25,
   "id": "cf450432-cdd8-4867-97ae-6ea6b427fe12",
   "metadata": {},
   "outputs": [
    {
     "data": {
      "text/plain": [
       "str"
      ]
     },
     "execution_count": 25,
     "metadata": {},
     "output_type": "execute_result"
    }
   ],
   "source": [
    "type(letra_1)"
   ]
  },
  {
   "cell_type": "code",
   "execution_count": 26,
   "id": "a0f69725-a2a2-4a16-925a-9478b2b9661f",
   "metadata": {},
   "outputs": [
    {
     "data": {
      "text/plain": [
       "'MundoMundo'"
      ]
     },
     "execution_count": 26,
     "metadata": {},
     "output_type": "execute_result"
    }
   ],
   "source": [
    "letra_2+letra_2"
   ]
  },
  {
   "cell_type": "code",
   "execution_count": 27,
   "id": "f63bf1cb-85a6-48f2-a96e-89d67ed769c5",
   "metadata": {},
   "outputs": [
    {
     "data": {
      "text/plain": [
       "'HolaMundo'"
      ]
     },
     "execution_count": 27,
     "metadata": {},
     "output_type": "execute_result"
    }
   ],
   "source": [
    "letra_1+letra_2"
   ]
  },
  {
   "cell_type": "code",
   "execution_count": 28,
   "id": "92a49937-a809-487c-ad70-56999c6b2118",
   "metadata": {},
   "outputs": [],
   "source": [
    "a = 3\n",
    "b = 4"
   ]
  },
  {
   "cell_type": "code",
   "execution_count": 29,
   "id": "3bccf3db-acbe-495d-9a9c-1ddf9f1bc183",
   "metadata": {},
   "outputs": [
    {
     "data": {
      "text/plain": [
       "7"
      ]
     },
     "execution_count": 29,
     "metadata": {},
     "output_type": "execute_result"
    }
   ],
   "source": [
    "a+b"
   ]
  },
  {
   "cell_type": "code",
   "execution_count": 30,
   "id": "5a9856d9-db04-4863-b503-d3a85538ff9c",
   "metadata": {},
   "outputs": [
    {
     "data": {
      "text/plain": [
       "-1"
      ]
     },
     "execution_count": 30,
     "metadata": {},
     "output_type": "execute_result"
    }
   ],
   "source": [
    "a-b"
   ]
  },
  {
   "cell_type": "code",
   "execution_count": 31,
   "id": "8b89e3e0-4fce-4841-a5cb-54adc6ed8c94",
   "metadata": {},
   "outputs": [
    {
     "data": {
      "text/plain": [
       "12"
      ]
     },
     "execution_count": 31,
     "metadata": {},
     "output_type": "execute_result"
    }
   ],
   "source": [
    "a*b"
   ]
  },
  {
   "cell_type": "code",
   "execution_count": 33,
   "id": "b077e3f1-fb0f-4db4-9581-ca1ad6428514",
   "metadata": {},
   "outputs": [
    {
     "data": {
      "text/plain": [
       "81"
      ]
     },
     "execution_count": 33,
     "metadata": {},
     "output_type": "execute_result"
    }
   ],
   "source": [
    "a**b #Elevar a una potencia es con **"
   ]
  },
  {
   "cell_type": "code",
   "execution_count": 34,
   "id": "cdba29df-6c9d-4485-ad7d-4551e2694b08",
   "metadata": {},
   "outputs": [
    {
     "data": {
      "text/plain": [
       "58149737003040059690390169"
      ]
     },
     "execution_count": 34,
     "metadata": {},
     "output_type": "execute_result"
    }
   ],
   "source": [
    "a**54"
   ]
  },
  {
   "cell_type": "code",
   "execution_count": 36,
   "id": "86855ee7-76e2-420d-92fb-ec8e304deffb",
   "metadata": {},
   "outputs": [
    {
     "name": "stdout",
     "output_type": "stream",
     "text": [
      "7\n",
      "-1\n",
      "12\n"
     ]
    }
   ],
   "source": [
    "print(a+b)\n",
    "print(a-b)\n",
    "print(a*b)"
   ]
  },
  {
   "cell_type": "code",
   "execution_count": 37,
   "id": "d7befa8c-315e-4200-81b8-9453edbf8f32",
   "metadata": {},
   "outputs": [
    {
     "name": "stdout",
     "output_type": "stream",
     "text": [
      "El resultado de a + b es 7\n"
     ]
    }
   ],
   "source": [
    "print(\"El resultado de a + b es\", a+b)"
   ]
  },
  {
   "cell_type": "code",
   "execution_count": 38,
   "id": "ffae0921-cefd-4432-9daa-d725c298f560",
   "metadata": {},
   "outputs": [
    {
     "name": "stdout",
     "output_type": "stream",
     "text": [
      "El resultado de a + b es 7\n"
     ]
    }
   ],
   "source": [
    "print(f\"El resultado de a + b es {a+b}\")"
   ]
  },
  {
   "cell_type": "code",
   "execution_count": 51,
   "id": "245c77bb-2e90-4633-86dd-353129be3aa0",
   "metadata": {},
   "outputs": [
    {
     "name": "stdout",
     "output_type": "stream",
     "text": [
      "El resultado de a + b es {a+b}\n"
     ]
    }
   ],
   "source": [
    "print(\"El resultado de a + b es {a+b}\")"
   ]
  },
  {
   "cell_type": "code",
   "execution_count": 39,
   "id": "7c6236be-729b-4a69-be2f-6c1f7b5c760b",
   "metadata": {},
   "outputs": [],
   "source": [
    "lista_1 = [34, 56, 78, 98]"
   ]
  },
  {
   "cell_type": "code",
   "execution_count": 40,
   "id": "aa2bc0ef-a61c-4bdc-bc73-a89f2a0b1a36",
   "metadata": {},
   "outputs": [
    {
     "data": {
      "text/plain": [
       "list"
      ]
     },
     "execution_count": 40,
     "metadata": {},
     "output_type": "execute_result"
    }
   ],
   "source": [
    "type(lista_1)"
   ]
  },
  {
   "cell_type": "code",
   "execution_count": 41,
   "id": "004d4fd2-d36b-4470-82e9-6555b833d5cc",
   "metadata": {},
   "outputs": [
    {
     "data": {
      "text/plain": [
       "34"
      ]
     },
     "execution_count": 41,
     "metadata": {},
     "output_type": "execute_result"
    }
   ],
   "source": [
    "lista_1[0]"
   ]
  },
  {
   "cell_type": "code",
   "execution_count": 42,
   "id": "8362fcfb-b652-4696-bc0a-4a88561a221e",
   "metadata": {},
   "outputs": [
    {
     "data": {
      "text/plain": [
       "78"
      ]
     },
     "execution_count": 42,
     "metadata": {},
     "output_type": "execute_result"
    }
   ],
   "source": [
    "lista_1[2]"
   ]
  },
  {
   "cell_type": "code",
   "execution_count": 43,
   "id": "d6abcf94-e5d3-409c-a3b0-9e920009c3da",
   "metadata": {},
   "outputs": [
    {
     "ename": "IndexError",
     "evalue": "list index out of range",
     "output_type": "error",
     "traceback": [
      "\u001b[1;31m---------------------------------------------------------------------------\u001b[0m",
      "\u001b[1;31mIndexError\u001b[0m                                Traceback (most recent call last)",
      "Cell \u001b[1;32mIn[43], line 1\u001b[0m\n\u001b[1;32m----> 1\u001b[0m \u001b[43mlista_1\u001b[49m\u001b[43m[\u001b[49m\u001b[38;5;241;43m5\u001b[39;49m\u001b[43m]\u001b[49m\n",
      "\u001b[1;31mIndexError\u001b[0m: list index out of range"
     ]
    }
   ],
   "source": [
    "lista_1[5]"
   ]
  },
  {
   "cell_type": "code",
   "execution_count": 44,
   "id": "0dadb767-cbc4-4628-95a7-f1ba2d00b2f0",
   "metadata": {},
   "outputs": [],
   "source": [
    "lista_1.append(150)"
   ]
  },
  {
   "cell_type": "code",
   "execution_count": 45,
   "id": "3d5f8f3d-0e4a-4db0-95b3-beb554b00ba0",
   "metadata": {},
   "outputs": [
    {
     "data": {
      "text/plain": [
       "[34, 56, 78, 98, 150]"
      ]
     },
     "execution_count": 45,
     "metadata": {},
     "output_type": "execute_result"
    }
   ],
   "source": [
    "lista_1"
   ]
  },
  {
   "cell_type": "code",
   "execution_count": 46,
   "id": "593e61e2-77ea-4fb9-90f3-d0ae340ea806",
   "metadata": {},
   "outputs": [],
   "source": [
    "lista_1.append(\"FdI\")"
   ]
  },
  {
   "cell_type": "code",
   "execution_count": 47,
   "id": "40b6e2df-3403-4c48-8aa1-96a65a4dff3d",
   "metadata": {},
   "outputs": [
    {
     "data": {
      "text/plain": [
       "[34, 56, 78, 98, 150, 'FdI']"
      ]
     },
     "execution_count": 47,
     "metadata": {},
     "output_type": "execute_result"
    }
   ],
   "source": [
    "lista_1"
   ]
  },
  {
   "cell_type": "code",
   "execution_count": 48,
   "id": "3d08b8e1-ac76-4552-b9a6-cc75eec3ef55",
   "metadata": {},
   "outputs": [
    {
     "data": {
      "text/plain": [
       "[34, 56, 78, 98, 150, 'FdI', [63, 'Diego']]"
      ]
     },
     "execution_count": 48,
     "metadata": {},
     "output_type": "execute_result"
    }
   ],
   "source": [
    "lista_1.append([63, \"Diego\"])\n",
    "lista_1"
   ]
  },
  {
   "cell_type": "code",
   "execution_count": 49,
   "id": "0c5abd57-0dd4-47c0-83d9-56528ef97342",
   "metadata": {},
   "outputs": [
    {
     "data": {
      "text/plain": [
       "[63, 'Diego']"
      ]
     },
     "execution_count": 49,
     "metadata": {},
     "output_type": "execute_result"
    }
   ],
   "source": [
    "lista_1[6]"
   ]
  },
  {
   "cell_type": "code",
   "execution_count": 50,
   "id": "4e9e1748-93be-4cd4-a14c-8644f311b327",
   "metadata": {},
   "outputs": [
    {
     "data": {
      "text/plain": [
       "63"
      ]
     },
     "execution_count": 50,
     "metadata": {},
     "output_type": "execute_result"
    }
   ],
   "source": [
    "lista_1[6][0]"
   ]
  },
  {
   "cell_type": "code",
   "execution_count": 52,
   "id": "116dc569-d27f-4abe-92b4-0338883efb4f",
   "metadata": {},
   "outputs": [
    {
     "data": {
      "text/plain": [
       "[34, 56, 78, 98, 150, 'FdI', [63, 'Diego']]"
      ]
     },
     "execution_count": 52,
     "metadata": {},
     "output_type": "execute_result"
    }
   ],
   "source": [
    "lista_1"
   ]
  },
  {
   "cell_type": "code",
   "execution_count": 53,
   "id": "4445a6cd-eb6b-4a2d-a7d0-2a89dc815c6c",
   "metadata": {},
   "outputs": [],
   "source": [
    "lista_1.insert(4, \"nuevo elemento\")"
   ]
  },
  {
   "cell_type": "code",
   "execution_count": 54,
   "id": "98270f5f-91ed-4091-b9b6-10380e868c49",
   "metadata": {},
   "outputs": [
    {
     "data": {
      "text/plain": [
       "[34, 56, 78, 98, 'nuevo elemento', 150, 'FdI', [63, 'Diego']]"
      ]
     },
     "execution_count": 54,
     "metadata": {},
     "output_type": "execute_result"
    }
   ],
   "source": [
    "lista_1"
   ]
  },
  {
   "cell_type": "code",
   "execution_count": null,
   "id": "6b12c157-a573-4806-aa37-2edc13d89d0c",
   "metadata": {},
   "outputs": [],
   "source": []
  }
 ],
 "metadata": {
  "kernelspec": {
   "display_name": "Python 3 (ipykernel)",
   "language": "python",
   "name": "python3"
  },
  "language_info": {
   "codemirror_mode": {
    "name": "ipython",
    "version": 3
   },
   "file_extension": ".py",
   "mimetype": "text/x-python",
   "name": "python",
   "nbconvert_exporter": "python",
   "pygments_lexer": "ipython3",
   "version": "3.11.6"
  }
 },
 "nbformat": 4,
 "nbformat_minor": 5
}
