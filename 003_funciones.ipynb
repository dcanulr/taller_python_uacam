{
 "cells": [
  {
   "cell_type": "code",
   "execution_count": 23,
   "id": "ad101e6f-a314-4581-abed-e3ef1fe6c2de",
   "metadata": {},
   "outputs": [],
   "source": [
    "import numpy as np\n",
    "import matplotlib.pyplot as plt"
   ]
  },
  {
   "cell_type": "code",
   "execution_count": 6,
   "id": "f5c80433-a14f-47aa-9db8-78d51b897241",
   "metadata": {},
   "outputs": [],
   "source": [
    "def suma(num1, num2):\n",
    "    resultado = num1+num2\n",
    "    return resultado"
   ]
  },
  {
   "cell_type": "code",
   "execution_count": 7,
   "id": "27999f01-0fc5-453a-bc2d-ed78e75a32da",
   "metadata": {},
   "outputs": [
    {
     "data": {
      "text/plain": [
       "7"
      ]
     },
     "execution_count": 7,
     "metadata": {},
     "output_type": "execute_result"
    }
   ],
   "source": [
    "suma(3, 4)"
   ]
  },
  {
   "cell_type": "code",
   "execution_count": 8,
   "id": "9d6c2691-9094-4448-8774-5f9efcd8e4f4",
   "metadata": {},
   "outputs": [],
   "source": [
    "ejemplo = suma(7, 9.6)"
   ]
  },
  {
   "cell_type": "code",
   "execution_count": 9,
   "id": "a0ace9c8-c640-4169-8946-b23771bbb47c",
   "metadata": {},
   "outputs": [
    {
     "data": {
      "text/plain": [
       "16.6"
      ]
     },
     "execution_count": 9,
     "metadata": {},
     "output_type": "execute_result"
    }
   ],
   "source": [
    "ejemplo"
   ]
  },
  {
   "cell_type": "code",
   "execution_count": 13,
   "id": "d3c16377-8c93-41c3-a8b8-55484532b991",
   "metadata": {},
   "outputs": [],
   "source": [
    "def area(b, h=10):\n",
    "    total = b*h/2\n",
    "    return total"
   ]
  },
  {
   "cell_type": "code",
   "execution_count": 14,
   "id": "9c143346-8d54-4fd8-88dd-f2e8dfe1b535",
   "metadata": {},
   "outputs": [
    {
     "data": {
      "text/plain": [
       "25.0"
      ]
     },
     "execution_count": 14,
     "metadata": {},
     "output_type": "execute_result"
    }
   ],
   "source": [
    "area(5,10)"
   ]
  },
  {
   "cell_type": "code",
   "execution_count": 15,
   "id": "5ab679af-6c3c-4437-9f84-ecbc34192f0e",
   "metadata": {},
   "outputs": [
    {
     "ename": "TypeError",
     "evalue": "suma() missing 1 required positional argument: 'num2'",
     "output_type": "error",
     "traceback": [
      "\u001b[1;31m---------------------------------------------------------------------------\u001b[0m",
      "\u001b[1;31mTypeError\u001b[0m                                 Traceback (most recent call last)",
      "Cell \u001b[1;32mIn[15], line 1\u001b[0m\n\u001b[1;32m----> 1\u001b[0m \u001b[43msuma\u001b[49m\u001b[43m(\u001b[49m\u001b[38;5;241;43m4\u001b[39;49m\u001b[43m)\u001b[49m\n",
      "\u001b[1;31mTypeError\u001b[0m: suma() missing 1 required positional argument: 'num2'"
     ]
    }
   ],
   "source": [
    "suma(4)"
   ]
  },
  {
   "cell_type": "code",
   "execution_count": 16,
   "id": "9f856584-2357-43df-b676-4d79c9640be4",
   "metadata": {},
   "outputs": [
    {
     "data": {
      "text/plain": [
       "25.0"
      ]
     },
     "execution_count": 16,
     "metadata": {},
     "output_type": "execute_result"
    }
   ],
   "source": [
    "area(5)"
   ]
  },
  {
   "cell_type": "code",
   "execution_count": 17,
   "id": "57127817-d47c-4507-891e-d0eabdad4ddd",
   "metadata": {},
   "outputs": [
    {
     "data": {
      "text/plain": [
       "50.0"
      ]
     },
     "execution_count": 17,
     "metadata": {},
     "output_type": "execute_result"
    }
   ],
   "source": [
    "area(5, 20)"
   ]
  },
  {
   "cell_type": "code",
   "execution_count": 21,
   "id": "9b321491-df83-4baf-b353-f53e810598d6",
   "metadata": {},
   "outputs": [],
   "source": [
    "def potencia(v, A=1):\n",
    "    potencia = (1*2)*1.225*A*v**3\n",
    "    return potencia"
   ]
  },
  {
   "cell_type": "code",
   "execution_count": 19,
   "id": "b3eb074f-dbad-4f83-aadf-851f41097b92",
   "metadata": {},
   "outputs": [
    {
     "data": {
      "text/plain": [
       "66.15"
      ]
     },
     "execution_count": 19,
     "metadata": {},
     "output_type": "execute_result"
    }
   ],
   "source": [
    "potencia(1, 3)"
   ]
  },
  {
   "cell_type": "code",
   "execution_count": 22,
   "id": "8fba3de3-0b8b-4b5f-8a0d-e7b1784409cb",
   "metadata": {},
   "outputs": [
    {
     "data": {
      "text/plain": [
       "66.15"
      ]
     },
     "execution_count": 22,
     "metadata": {},
     "output_type": "execute_result"
    }
   ],
   "source": [
    "potencia(3)"
   ]
  },
  {
   "cell_type": "code",
   "execution_count": 24,
   "id": "6199b94d-1b67-4b6e-8897-f0262ac3fc92",
   "metadata": {},
   "outputs": [
    {
     "data": {
      "text/plain": [
       "0.0"
      ]
     },
     "execution_count": 24,
     "metadata": {},
     "output_type": "execute_result"
    }
   ],
   "source": [
    "potencia(0)"
   ]
  },
  {
   "cell_type": "code",
   "execution_count": 25,
   "id": "4b30f8dd-59c3-4389-9cb3-c2bf0116f983",
   "metadata": {},
   "outputs": [
    {
     "data": {
      "text/plain": [
       "2.45"
      ]
     },
     "execution_count": 25,
     "metadata": {},
     "output_type": "execute_result"
    }
   ],
   "source": [
    "potencia(1)"
   ]
  },
  {
   "cell_type": "code",
   "execution_count": 29,
   "id": "72777205-28ff-4119-933b-3485e4a5894a",
   "metadata": {},
   "outputs": [],
   "source": [
    "velocidades = np.arange(0,11,1)"
   ]
  },
  {
   "cell_type": "code",
   "execution_count": 30,
   "id": "9bfff458-6b24-483d-b695-2172457e166f",
   "metadata": {},
   "outputs": [
    {
     "data": {
      "text/plain": [
       "array([   0.  ,    2.45,   19.6 ,   66.15,  156.8 ,  306.25,  529.2 ,\n",
       "        840.35, 1254.4 , 1786.05, 2450.  ])"
      ]
     },
     "execution_count": 30,
     "metadata": {},
     "output_type": "execute_result"
    }
   ],
   "source": [
    "potencia(velocidades)"
   ]
  },
  {
   "cell_type": "code",
   "execution_count": 31,
   "id": "f8430ec8-a1cc-42ad-8e2c-ee5069b3bad0",
   "metadata": {},
   "outputs": [
    {
     "data": {
      "text/plain": [
       "[<matplotlib.lines.Line2D at 0x1f06c52db50>]"
      ]
     },
     "execution_count": 31,
     "metadata": {},
     "output_type": "execute_result"
    },
    {
     "data": {
      "image/png": "[encoded data removed]",
      "text/plain": [
       "<Figure size 640x480 with 1 Axes>"
      ]
     },
     "metadata": {},
     "output_type": "display_data"
    }
   ],
   "source": [
    "fig, ax = plt.subplots()\n",
    "ax.plot(velocidades, potencia(velocidades))"
   ]
  },
  {
   "cell_type": "code",
   "execution_count": 46,
   "id": "c729ffdc-2a96-4be5-a114-93f2d3f0ec94",
   "metadata": {},
   "outputs": [],
   "source": [
    "def costo(kwh):\n",
    "    if kwh <= 150:\n",
    "        total = kwh*1.019\n",
    "    elif 150< kwh <= 350:\n",
    "        total = 150*1.019+(kwh-150)*1.243\n",
    "    else:\n",
    "        total = 150*1.019 + 200*1.243 + (kwh-350)*3.633\n",
    "    return f\"El costo de tu consumo por {kwh} kWh es ${total:.2f}\"\n",
    "    "
   ]
  },
  {
   "cell_type": "code",
   "execution_count": 60,
   "id": "8ac84ae2-5db1-4efb-bde0-3d4d43c54801",
   "metadata": {},
   "outputs": [],
   "source": [
    "def costo(kwh, p1=1.019, p2=1.243, p3=3.633):\n",
    "    if kwh <= 150:\n",
    "        total = kwh*p1\n",
    "    elif 150< kwh <= 350:\n",
    "        total = 150*p1+(kwh-150)*p2\n",
    "    else:\n",
    "        total = 150*p1 + 200*p2 + (kwh-350)*p3\n",
    "    return f\"El costo de tu consumo por {kwh} kWh es ${total:.2f}\"\n",
    "    "
   ]
  },
  {
   "cell_type": "code",
   "execution_count": null,
   "id": "ecb7bc15-9e01-4d92-a265-4f2c4a7605e4",
   "metadata": {},
   "outputs": [],
   "source": []
  },
  {
   "cell_type": "code",
   "execution_count": 50,
   "id": "9dee697f-2e8d-4b1d-8dd9-c7ef3fc9e26a",
   "metadata": {},
   "outputs": [
    {
     "data": {
      "text/plain": [
       "'El costo de tu consumo por 200 kWh es $215.00'"
      ]
     },
     "execution_count": 50,
     "metadata": {},
     "output_type": "execute_result"
    }
   ],
   "source": [
    "costo(200)"
   ]
  },
  {
   "cell_type": "code",
   "execution_count": 51,
   "id": "77efd9e7-5be1-41af-ac3b-33ae24636203",
   "metadata": {},
   "outputs": [
    {
     "data": {
      "text/plain": [
       "'El costo de tu consumo por 400 kWh es $583.10'"
      ]
     },
     "execution_count": 51,
     "metadata": {},
     "output_type": "execute_result"
    }
   ],
   "source": [
    "costo(400)"
   ]
  },
  {
   "cell_type": "code",
   "execution_count": null,
   "id": "d58b0b4a-6ff2-4e62-8306-072868aa191c",
   "metadata": {},
   "outputs": [],
   "source": []
  }
 ],
 "metadata": {
  "kernelspec": {
   "display_name": "Python 3 (ipykernel)",
   "language": "python",
   "name": "python3"
  },
  "language_info": {
   "codemirror_mode": {
    "name": "ipython",
    "version": 3
   },
   "file_extension": ".py",
   "mimetype": "text/x-python",
   "name": "python",
   "nbconvert_exporter": "python",
   "pygments_lexer": "ipython3",
   "version": "3.11.6"
  }
 },
 "nbformat": 4,
 "nbformat_minor": 5
}
