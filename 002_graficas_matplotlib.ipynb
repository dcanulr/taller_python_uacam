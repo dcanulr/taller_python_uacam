{
 "cells": [
  {
   "cell_type": "markdown",
   "id": "8152d1a9-b309-40d1-969c-a5231a237ed6",
   "metadata": {},
   "source": [
    "## Una introducción a las gráficas con matplotlib\n",
    "https://matplotlib.org/cheatsheets/cheatsheets.pdf"
   ]
  },
  {
   "attachments": {},
   "cell_type": "markdown",
   "id": "f821ea08-de9a-421a-a836-9ae20e7b99f1",
   "metadata": {},
   "source": [
    "![](./figs/matplotlib_logo.png)"
   ]
  },
  {
   "cell_type": "code",
   "execution_count": 2,
   "id": "7a377532-58a8-41a8-8df5-7ff5a8f2af4f",
   "metadata": {},
   "outputs": [],
   "source": [
    "import matplotlib.pyplot as plt\n",
    "import numpy as np"
   ]
  },
  {
   "attachments": {},
   "cell_type": "markdown",
   "id": "4f20c5bb-f6e6-4736-af42-e8c3f2494f4f",
   "metadata": {},
   "source": [
    "![](./figs/anatomy_figure.png)"
   ]
  },
  {
   "cell_type": "code",
   "execution_count": null,
   "id": "52072c0b-ead5-4ae6-9077-afbf677491ce",
   "metadata": {},
   "outputs": [],
   "source": []
  }
 ],
 "metadata": {
  "kernelspec": {
   "display_name": "Python 3 (ipykernel)",
   "language": "python",
   "name": "python3"
  },
  "language_info": {
   "codemirror_mode": {
    "name": "ipython",
    "version": 3
   },
   "file_extension": ".py",
   "mimetype": "text/x-python",
   "name": "python",
   "nbconvert_exporter": "python",
   "pygments_lexer": "ipython3",
   "version": "3.11.6"
  }
 },
 "nbformat": 4,
 "nbformat_minor": 5
}
